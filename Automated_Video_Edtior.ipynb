{
  "nbformat": 4,
  "nbformat_minor": 0,
  "metadata": {
    "colab": {
      "provenance": [],
      "authorship_tag": "ABX9TyMNLRuWp5JjytN2aWZZBqn/",
      "include_colab_link": true
    },
    "kernelspec": {
      "name": "python3",
      "display_name": "Python 3"
    },
    "language_info": {
      "name": "python"
    }
  },
  "cells": [
    {
      "cell_type": "markdown",
      "metadata": {
        "id": "view-in-github",
        "colab_type": "text"
      },
      "source": [
        "<a href=\"https://colab.research.google.com/github/raihankhan-rk/Automated-Video-Editor/blob/main/Automated_Video_Edtior.ipynb\" target=\"_parent\"><img src=\"https://colab.research.google.com/assets/colab-badge.svg\" alt=\"Open In Colab\"/></a>"
      ]
    },
    {
      "cell_type": "code",
      "source": [
        "!pip install aubio\n",
        "!pip install moviepy\n",
        "!pip install imageio==2.4.1"
      ],
      "metadata": {
        "id": "2Rpayq0cDlP9"
      },
      "execution_count": null,
      "outputs": []
    },
    {
      "cell_type": "code",
      "source": [
        "from aubio import source, onset\n",
        "import os\n",
        "from moviepy.editor import *"
      ],
      "metadata": {
        "id": "IyYk8H7QDrdc"
      },
      "execution_count": null,
      "outputs": []
    },
    {
      "cell_type": "code",
      "source": [
        "def get_onset_times(file_path):\n",
        "    window_size = 1024  # FFT size\n",
        "    hop_size = window_size // 4\n",
        "\n",
        "    sample_rate = 0\n",
        "    src_func = source(file_path, sample_rate, hop_size)\n",
        "    sample_rate = src_func.samplerate\n",
        "    onset_func = onset('default', window_size, hop_size)\n",
        "\n",
        "    duration = float(src_func.duration) / src_func.samplerate\n",
        "\n",
        "    onset_times = []  # seconds\n",
        "    while True:  # read frames\n",
        "        samples, num_frames_read = src_func()\n",
        "        if onset_func(samples):\n",
        "            onset_time = onset_func.get_last_s()\n",
        "            if onset_time < duration:\n",
        "                onset_times.append(onset_time)\n",
        "            else:\n",
        "                break\n",
        "        if num_frames_read < hop_size:\n",
        "            break\n",
        "\n",
        "    return onset_times"
      ],
      "metadata": {
        "id": "d7GYqSYBDziK"
      },
      "execution_count": null,
      "outputs": []
    },
    {
      "cell_type": "code",
      "source": [
        "def main():\n",
        "    file_path = '/content/Middle of the Night - Remix.mp3'\n",
        "    onset_times = get_onset_times(file_path)\n",
        "    print(onset_times)\n",
        "    print(f\"We'll need {len(onset_times)} videos to make a dope edit on this sound!\")\n",
        "\n",
        "    # remove extension, .mp3, .wav etc.\n",
        "\n",
        "    # file_name_no_extension, _ = os.path.splitext(file_path)\n",
        "    # output_name = file_name_no_extension + '.beatmap.txt'\n",
        "    # with open(output_name, 'wt') as f:\n",
        "    #     f.write('\\n'.join(['%.4f' % onset_time for onset_time in onset_times]))\n"
      ],
      "metadata": {
        "id": "GCTC-ob_D2Bl"
      },
      "execution_count": null,
      "outputs": []
    },
    {
      "cell_type": "code",
      "source": [
        "main()"
      ],
      "metadata": {
        "id": "kA3wSpYrE_G4"
      },
      "execution_count": null,
      "outputs": []
    },
    {
      "cell_type": "code",
      "source": [
        "# compiled = concatenate_videoclips([clip1, clip2]).resize(width=1080, height=1920)\n",
        "# audio = AudioFileClip(\"/content/Middle of the Night - Remix.mp3\")\n",
        "# compiled.audio = CompositeAudioClip([audio])"
      ],
      "metadata": {
        "id": "RBReqUY2L349"
      },
      "execution_count": null,
      "outputs": []
    },
    {
      "cell_type": "code",
      "source": [
        "# compiled.write_videofile(\"edit.mp4\", fps=24)"
      ],
      "metadata": {
        "id": "K8vx-ikgMSpH"
      },
      "execution_count": null,
      "outputs": []
    },
    {
      "cell_type": "code",
      "source": [],
      "metadata": {
        "id": "dNqUbjx4NBdy"
      },
      "execution_count": null,
      "outputs": []
    }
  ]
}