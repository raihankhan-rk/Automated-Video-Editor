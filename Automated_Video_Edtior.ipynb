{
  "nbformat": 4,
  "nbformat_minor": 0,
  "metadata": {
    "colab": {
      "provenance": [],
      "authorship_tag": "ABX9TyPcHnAEfB3+qbCxf4BkArE2",
      "include_colab_link": true
    },
    "kernelspec": {
      "name": "python3",
      "display_name": "Python 3"
    },
    "language_info": {
      "name": "python"
    }
  },
  "cells": [
    {
      "cell_type": "markdown",
      "metadata": {
        "id": "view-in-github",
        "colab_type": "text"
      },
      "source": [
        "<a href=\"https://colab.research.google.com/github/raihankhan-rk/Automated-Video-Editor/blob/main/Automated_Video_Edtior.ipynb\" target=\"_parent\"><img src=\"https://colab.research.google.com/assets/colab-badge.svg\" alt=\"Open In Colab\"/></a>"
      ]
    },
    {
      "cell_type": "code",
      "source": [
        "!pip install aubio\n",
        "!pip install moviepy\n",
        "!pip install imageio==2.4.1"
      ],
      "metadata": {
        "colab": {
          "base_uri": "https://localhost:8080/"
        },
        "id": "2Rpayq0cDlP9",
        "outputId": "e90f723e-db80-48c3-9252-3bc274813f43"
      },
      "execution_count": null,
      "outputs": [
        {
          "output_type": "stream",
          "name": "stdout",
          "text": [
            "Looking in indexes: https://pypi.org/simple, https://us-python.pkg.dev/colab-wheels/public/simple/\n",
            "Requirement already satisfied: aubio in /usr/local/lib/python3.7/dist-packages (0.4.9)\n",
            "Requirement already satisfied: numpy in /usr/local/lib/python3.7/dist-packages (from aubio) (1.21.6)\n",
            "Looking in indexes: https://pypi.org/simple, https://us-python.pkg.dev/colab-wheels/public/simple/\n",
            "Requirement already satisfied: moviepy in /usr/local/lib/python3.7/dist-packages (0.2.3.5)\n",
            "Requirement already satisfied: tqdm<5.0,>=4.11.2 in /usr/local/lib/python3.7/dist-packages (from moviepy) (4.64.1)\n",
            "Requirement already satisfied: numpy in /usr/local/lib/python3.7/dist-packages (from moviepy) (1.21.6)\n",
            "Requirement already satisfied: decorator<5.0,>=4.0.2 in /usr/local/lib/python3.7/dist-packages (from moviepy) (4.4.2)\n",
            "Requirement already satisfied: imageio<3.0,>=2.1.2 in /usr/local/lib/python3.7/dist-packages (from moviepy) (2.4.1)\n",
            "Requirement already satisfied: pillow in /usr/local/lib/python3.7/dist-packages (from imageio<3.0,>=2.1.2->moviepy) (7.1.2)\n",
            "Looking in indexes: https://pypi.org/simple, https://us-python.pkg.dev/colab-wheels/public/simple/\n",
            "Requirement already satisfied: imageio==2.4.1 in /usr/local/lib/python3.7/dist-packages (2.4.1)\n",
            "Requirement already satisfied: pillow in /usr/local/lib/python3.7/dist-packages (from imageio==2.4.1) (7.1.2)\n",
            "Requirement already satisfied: numpy in /usr/local/lib/python3.7/dist-packages (from imageio==2.4.1) (1.21.6)\n"
          ]
        }
      ]
    },
    {
      "cell_type": "code",
      "source": [
        "from aubio import source, onset\n",
        "import os\n",
        "from moviepy.editor import *"
      ],
      "metadata": {
        "colab": {
          "base_uri": "https://localhost:8080/"
        },
        "id": "IyYk8H7QDrdc",
        "outputId": "d35ad666-14a3-4de7-98d8-6291ac83e372"
      },
      "execution_count": null,
      "outputs": [
        {
          "output_type": "stream",
          "name": "stdout",
          "text": [
            "Imageio: 'ffmpeg-linux64-v3.3.1' was not found on your computer; downloading it now.\n",
            "Try 1. Download from https://github.com/imageio/imageio-binaries/raw/master/ffmpeg/ffmpeg-linux64-v3.3.1 (43.8 MB)\n",
            "Downloading: 8192/45929032 bytes (0.0%)\b\b\b\b\b\b\b\b\b\b\b\b\b\b\b\b\b\b\b\b\b\b\b\b\b\b2318336/45929032 bytes (5.0%)\b\b\b\b\b\b\b\b\b\b\b\b\b\b\b\b\b\b\b\b\b\b\b\b\b\b\b\b\b5881856/45929032 bytes (12.8%)\b\b\b\b\b\b\b\b\b\b\b\b\b\b\b\b\b\b\b\b\b\b\b\b\b\b\b\b\b\b9658368/45929032 bytes (21.0%)\b\b\b\b\b\b\b\b\b\b\b\b\b\b\b\b\b\b\b\b\b\b\b\b\b\b\b\b\b\b13410304/45929032 bytes (29.2%)\b\b\b\b\b\b\b\b\b\b\b\b\b\b\b\b\b\b\b\b\b\b\b\b\b\b\b\b\b\b\b17178624/45929032 bytes (37.4%)\b\b\b\b\b\b\b\b\b\b\b\b\b\b\b\b\b\b\b\b\b\b\b\b\b\b\b\b\b\b\b20627456/45929032 bytes (44.9%)\b\b\b\b\b\b\b\b\b\b\b\b\b\b\b\b\b\b\b\b\b\b\b\b\b\b\b\b\b\b\b24461312/45929032 bytes (53.3%)\b\b\b\b\b\b\b\b\b\b\b\b\b\b\b\b\b\b\b\b\b\b\b\b\b\b\b\b\b\b\b28123136/45929032 bytes (61.2%)\b\b\b\b\b\b\b\b\b\b\b\b\b\b\b\b\b\b\b\b\b\b\b\b\b\b\b\b\b\b\b31662080/45929032 bytes (68.9%)\b\b\b\b\b\b\b\b\b\b\b\b\b\b\b\b\b\b\b\b\b\b\b\b\b\b\b\b\b\b\b35176448/45929032 bytes (76.6%)\b\b\b\b\b\b\b\b\b\b\b\b\b\b\b\b\b\b\b\b\b\b\b\b\b\b\b\b\b\b\b38871040/45929032 bytes (84.6%)\b\b\b\b\b\b\b\b\b\b\b\b\b\b\b\b\b\b\b\b\b\b\b\b\b\b\b\b\b\b\b42467328/45929032 bytes (92.5%)\b\b\b\b\b\b\b\b\b\b\b\b\b\b\b\b\b\b\b\b\b\b\b\b\b\b\b\b\b\b\b45929032/45929032 bytes (100.0%)\n",
            "  Done\n",
            "File saved as /root/.imageio/ffmpeg/ffmpeg-linux64-v3.3.1.\n"
          ]
        }
      ]
    },
    {
      "cell_type": "code",
      "source": [
        "def get_onset_times(file_path):\n",
        "    window_size = 1024  # FFT size\n",
        "    hop_size = window_size // 4\n",
        "\n",
        "    sample_rate = 0\n",
        "    src_func = source(file_path, sample_rate, hop_size)\n",
        "    sample_rate = src_func.samplerate\n",
        "    onset_func = onset('default', window_size, hop_size)\n",
        "\n",
        "    duration = float(src_func.duration) / src_func.samplerate\n",
        "\n",
        "    onset_times = []  # seconds\n",
        "    while True:  # read frames\n",
        "        samples, num_frames_read = src_func()\n",
        "        if onset_func(samples):\n",
        "            onset_time = onset_func.get_last_s()\n",
        "            if onset_time < duration:\n",
        "                onset_times.append(onset_time)\n",
        "            else:\n",
        "                break\n",
        "        if num_frames_read < hop_size:\n",
        "            break\n",
        "\n",
        "    return onset_times"
      ],
      "metadata": {
        "id": "d7GYqSYBDziK"
      },
      "execution_count": null,
      "outputs": []
    },
    {
      "cell_type": "code",
      "source": [
        "def main():\n",
        "    file_path = '/content/Middle of the Night - Remix.mp3'\n",
        "    onset_times = get_onset_times(file_path)\n",
        "    print(onset_times)\n",
        "    print(f\"We'll need {len(onset_times)} videos to make a dope edit on this sound!\")\n",
        "\n",
        "    # remove extension, .mp3, .wav etc.\n",
        "\n",
        "    # file_name_no_extension, _ = os.path.splitext(file_path)\n",
        "    # output_name = file_name_no_extension + '.beatmap.txt'\n",
        "    # with open(output_name, 'wt') as f:\n",
        "    #     f.write('\\n'.join(['%.4f' % onset_time for onset_time in onset_times]))\n"
      ],
      "metadata": {
        "id": "GCTC-ob_D2Bl"
      },
      "execution_count": null,
      "outputs": []
    },
    {
      "cell_type": "code",
      "source": [
        "main()"
      ],
      "metadata": {
        "colab": {
          "base_uri": "https://localhost:8080/"
        },
        "id": "kA3wSpYrE_G4",
        "outputId": "0b788070-9dca-47d8-e5a2-567b637bd847"
      },
      "execution_count": null,
      "outputs": [
        {
          "output_type": "stream",
          "name": "stdout",
          "text": [
            "[0.08759637176990509, 0.37088435888290405, 0.4278458058834076, 0.537641704082489, 0.6909750699996948, 0.7503174543380737, 0.8551474213600159, 1.2037642002105713, 1.4081859588623047, 1.7269614934921265, 2.023038625717163, 2.289886713027954, 2.960771083831787, 3.0517005920410156, 3.2800452709198, 4.07390022277832, 4.244739055633545, 8.171836853027344, 8.500340461730957, 8.662879943847656, 8.81941032409668, 8.942358016967773, 9.141745567321777, 10.436077117919922, 10.596870422363281, 10.664127349853516, 11.080567359924316, 12.045941352844238, 12.527460098266602, 13.013945579528809, 13.174444198608398, 13.255102157592773, 13.333877563476562, 13.49696159362793, 13.98181438446045, 14.307256698608398, 14.467233657836914, 14.953083992004395, 15.91303825378418, 16.241451263427734, 16.56163215637207, 16.884103775024414, 18.337392807006836, 18.49861717224121, 19.787891387939453, 20.110952377319336, 20.756961822509766, 20.917369842529297, 21.07607650756836, 21.241519927978516, 21.722925186157227, 21.962404251098633, 22.050748825073242, 22.210567474365234]\n",
            "We'll need 54 videos to make a dope edit on this sound!\n"
          ]
        }
      ]
    },
    {
      "cell_type": "code",
      "source": [
        "clip1 = ImageClip(\"/content/4B5E2271-1FE4-419D-AE5E-0E8F4574A02A.JPG\").subclip(0.0, 0.08759637176990509)\n",
        "clip2 = ImageClip(\"/content/WhatsApp Image 2022-08-28 at 8.55.31 PM.jpeg\").subclip(0.08759637176990509, 0.37088435888290405)\n",
        "clip3 = ImageClip(\"/content/WhatsApp Image 2022-08-28 at 8.55.31 PM.jpeg\").subclip(0.37088435888290405, 0.4278458058834076)\n",
        "clip4 = ImageClip(\"/content/WhatsApp Image 2022-08-28 at 8.55.35 PM (2).jpeg\").subclip(0.4278458058834076, 0.537641704082489)\n",
        "clip5 = ImageClip(\"/content/WhatsApp Image 2022-08-28 at 8.58.01 PM.jpeg\").subclip(0.537641704082489, 0.6909750699996948)\n",
        "clip6 = ImageClip(\"/content/WhatsApp Image 2022-08-28 at 8.55.48 PM.jpeg\").subclip(0.6909750699996948, 0.7503174543380737)\n",
        "clip7 = ImageClip(\"/content/WhatsApp Image 2022-08-28 at 9.08.14 PM (1).jpeg\").subclip(0.7503174543380737, 0.8551474213600159)\n",
        "clip8 = ImageClip(\"/content/WhatsApp Image 2022-08-28 at 9.08.14 PM.jpeg\").subclip(0.8551474213600159, 1.2037642002105713)"
      ],
      "metadata": {
        "id": "8vWIEIQNFAH1"
      },
      "execution_count": null,
      "outputs": []
    },
    {
      "cell_type": "code",
      "source": [
        "compiled = concatenate_videoclips([clip1, clip2, clip3, clip4, clip5, clip6, clip7, clip8]).resize(width=1080, height=1920)\n",
        "audio = AudioFileClip(\"/content/Middle of the Night - Remix.mp3\")\n",
        "compiled.audio = CompositeAudioClip([audio])"
      ],
      "metadata": {
        "id": "RBReqUY2L349"
      },
      "execution_count": null,
      "outputs": []
    },
    {
      "cell_type": "code",
      "source": [
        "compiled.write_videofile(\"edit.mp4\", fps=24)"
      ],
      "metadata": {
        "colab": {
          "base_uri": "https://localhost:8080/"
        },
        "id": "K8vx-ikgMSpH",
        "outputId": "358f127b-f6a0-4ec8-83f0-7b4cc445cf35"
      },
      "execution_count": null,
      "outputs": [
        {
          "output_type": "stream",
          "name": "stdout",
          "text": [
            "[MoviePy] >>>> Building video edit.mp4\n",
            "[MoviePy] Writing audio in editTEMP_MPY_wvf_snd.mp3\n"
          ]
        },
        {
          "output_type": "stream",
          "name": "stderr",
          "text": [
            "100%|██████████| 503/503 [00:00<00:00, 660.77it/s]"
          ]
        },
        {
          "output_type": "stream",
          "name": "stdout",
          "text": [
            "[MoviePy] Done.\n",
            "[MoviePy] Writing video edit.mp4\n"
          ]
        },
        {
          "output_type": "stream",
          "name": "stderr",
          "text": [
            "\n",
            "100%|██████████| 29/29 [00:00<00:00, 90.13it/s]"
          ]
        },
        {
          "output_type": "stream",
          "name": "stdout",
          "text": [
            "[MoviePy] Done.\n",
            "[MoviePy] >>>> Video ready: edit.mp4 \n",
            "\n"
          ]
        },
        {
          "output_type": "stream",
          "name": "stderr",
          "text": [
            "\n"
          ]
        }
      ]
    },
    {
      "cell_type": "code",
      "source": [],
      "metadata": {
        "id": "dNqUbjx4NBdy"
      },
      "execution_count": null,
      "outputs": []
    }
  ]
}